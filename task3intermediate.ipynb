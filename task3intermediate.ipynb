{
 "cells": [
  {
   "cell_type": "code",
   "execution_count": 27,
   "metadata": {},
   "outputs": [],
   "source": [
    "from tensorflow.keras.applications import ResNet50"
   ]
  },
  {
   "cell_type": "code",
   "execution_count": 28,
   "metadata": {},
   "outputs": [],
   "source": [
    "import tensorflow as tf\n",
    "from tensorflow.keras.datasets import cifar10\n",
    "from tensorflow.keras.models import Sequential\n",
    "from tensorflow.keras.layers import Flatten, Dense, Dropout, BatchNormalization"
   ]
  },
  {
   "cell_type": "code",
   "execution_count": 29,
   "metadata": {},
   "outputs": [],
   "source": [
    "#załadaowanie zbioru cifar-10\n",
    "(X_train, y_train), (X_test, y_test) = cifar10.load_data()"
   ]
  },
  {
   "cell_type": "code",
   "execution_count": 30,
   "metadata": {},
   "outputs": [],
   "source": [
    "#normalizacja danych na zakres [0,1]\n",
    "X_train = X_train.astype('float32') / 255.0 \n",
    "X_test = X_test.astype('float32') / 255.0"
   ]
  },
  {
   "cell_type": "code",
   "execution_count": 31,
   "metadata": {},
   "outputs": [],
   "source": [
    "#załadowanie modelu z określonum kształtem wejściowym\n",
    "model = ResNet50(weights='imagenet', include_top=False, input_shape=(32, 32, 3)) \n",
    "model.trainable = False #warstwa bazowa nieedytowalna\n"
   ]
  },
  {
   "cell_type": "code",
   "execution_count": null,
   "metadata": {},
   "outputs": [],
   "source": [
    "model = Sequential([\n",
    "    model,\n",
    "    Flatten(), #splaszczenie danych wyjsciowych z warstwy resnet50\n",
    "    Dense(512, activation='relu'), #512 neuronow aktywacja relu\n",
    "    BatchNormalization(), #normalizacja batch\n",
    "    Dropout(0.5), #regularyzacja dropoutem na 0.5\n",
    "    Dense(256, activation='relu'), #256neuronów relu\n",
    "    BatchNormalization(),\n",
    "    Dropout(0.5),\n",
    "    Dense(10, activation='softmax') #database ma 10 klas\n",
    "])"
   ]
  },
  {
   "cell_type": "code",
   "execution_count": null,
   "metadata": {},
   "outputs": [],
   "source": [
    "#kompilacja, optymalizator adam\n",
    "model.compile(optimizer=tf.keras.optimizers.Adam(learning_rate=0.0001), loss='sparse_categorical_crossentropy', metrics=['accuracy'])"
   ]
  },
  {
   "cell_type": "code",
   "execution_count": 34,
   "metadata": {},
   "outputs": [
    {
     "name": "stdout",
     "output_type": "stream",
     "text": [
      "Epoch 1/10\n",
      "1563/1563 [==============================] - 28s 17ms/step - loss: 2.5603 - accuracy: 0.2421\n",
      "Epoch 2/10\n",
      "1563/1563 [==============================] - 27s 17ms/step - loss: 2.1491 - accuracy: 0.3046\n",
      "Epoch 3/10\n",
      "1563/1563 [==============================] - 26s 17ms/step - loss: 1.9630 - accuracy: 0.3354\n",
      "Epoch 4/10\n",
      "1563/1563 [==============================] - 26s 17ms/step - loss: 1.8466 - accuracy: 0.3569\n",
      "Epoch 5/10\n",
      "1563/1563 [==============================] - 26s 17ms/step - loss: 1.7649 - accuracy: 0.3801\n",
      "Epoch 6/10\n",
      "1563/1563 [==============================] - 26s 16ms/step - loss: 1.7100 - accuracy: 0.3942\n",
      "Epoch 7/10\n",
      "1563/1563 [==============================] - 23s 15ms/step - loss: 1.6743 - accuracy: 0.4042\n",
      "Epoch 8/10\n",
      "1563/1563 [==============================] - 22s 14ms/step - loss: 1.6437 - accuracy: 0.4173\n",
      "Epoch 9/10\n",
      "1563/1563 [==============================] - 22s 14ms/step - loss: 1.6205 - accuracy: 0.4210\n",
      "Epoch 10/10\n",
      "1563/1563 [==============================] - 22s 14ms/step - loss: 1.6052 - accuracy: 0.4290\n",
      "313/313 [==============================] - 4s 12ms/step - loss: 2.4486 - accuracy: 0.2175\n",
      "Test Accuracy: 0.2175000011920929\n"
     ]
    }
   ],
   "source": [
    "model.fit(X_train, y_train, epochs=10) #trenowanie przez 10 epok\n",
    "# Ewaluacja modelu\n",
    "loss, accuracy = model.evaluate(X_test, y_test) #ewaluacja na danych testowych\n",
    "print(f'Test Accuracy: {accuracy}')\n",
    "\n",
    "# Zapisanie najlepszego modelu do pliku\n",
    "model.save('ffinal_model.h5')\n"
   ]
  },
  {
   "cell_type": "markdown",
   "metadata": {},
   "source": [
    "wnioski:\n",
    "dokładność 22% jest bardzo niska i może to być wynikiem wielu rzeczy między innymi:\n",
    "\n",
    "-brak optymalizacji danych względem modelu, resnet50 moze byc zbyt skomplikowany na zbior danych cifar-10\n",
    "\n",
    "-zbyt mała ilośc epok\n",
    "\n",
    "-źle dobrany wstępnie wytrenowany model względem wybranych danych"
   ]
  }
 ],
 "metadata": {
  "kernelspec": {
   "display_name": "face",
   "language": "python",
   "name": "python3"
  },
  "language_info": {
   "codemirror_mode": {
    "name": "ipython",
    "version": 3
   },
   "file_extension": ".py",
   "mimetype": "text/x-python",
   "name": "python",
   "nbconvert_exporter": "python",
   "pygments_lexer": "ipython3",
   "version": "3.9.19"
  }
 },
 "nbformat": 4,
 "nbformat_minor": 2
}
